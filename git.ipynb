{
 "cells": [
  {
   "cell_type": "code",
   "execution_count": null,
   "metadata": {},
   "outputs": [
    {
     "name": "stdout",
     "output_type": "stream",
     "text": [
      "[git pull] Syncing with origin: git@github.com:DSASC/Aouizerat_Gelman_et_al_2019.git\n",
      "/master\n",
      "[git pull] Syncing with origin: git@github.com:DSASC/Aouizerat_Gelman_et_al_2019.git\n",
      "/master\n",
      "[git commit stdout] On branch master\n",
      "[git commit stdout] Your branch is up to date with 'origin/master'.\n",
      "[git commit stdout] \n",
      "[git commit stdout] Changes not staged for commit:\n",
      "[git commit stdout] \tmodified:   git.ipynb\n",
      "[git commit stdout] \tdeleted:    mapping_to_SefAle/404.cov.gz\n",
      "[git commit stdout] \tdeleted:    mapping_to_SefAle/424.cov.gz\n",
      "[git commit stdout] \tmodified:   script.ipynb\n",
      "[git commit stdout] \tmodified:   snps_sefale/404.vcf\n",
      "[git commit stdout] \tmodified:   snps_sefale/404_all_polymorphism.tsv\n",
      "[git commit stdout] \tmodified:   snps_sefale/404_all_polymorphism.tsv.annotated.txt\n",
      "[git commit stdout] \tmodified:   snps_sefale/404_snp_only.tsv\n",
      "[git commit stdout] \tmodified:   snps_sefale/404_snp_only.tsv.annotated.txt\n",
      "[git commit stdout] \tmodified:   snps_sefale/424.vcf\n",
      "[git commit stdout] \tmodified:   snps_sefale/424_all_polymorphism.tsv\n",
      "[git commit stdout] \tmodified:   snps_sefale/424_all_polymorphism.tsv.annotated.txt\n",
      "[git commit stdout] \tmodified:   snps_sefale/424_snp_only.tsv\n",
      "[git commit stdout] \tmodified:   snps_sefale/424_snp_only.tsv.annotated.txt\n",
      "[git commit stdout] \tdeleted:    snps_sefale/changed_genes_in_404_vs_safeale.txt\n",
      "[git commit stdout] \tdeleted:    snps_sefale/changed_genes_in_424_vs_safeale.txt\n",
      "[git commit stdout] \tdeleted:    snps_sefale/shared_genes.txt\n",
      "[git commit stdout] \tdeleted:    snps_sefale/unique_genes_404.txt\n",
      "[git commit stdout] \tdeleted:    snps_sefale/unique_genes_424.txt\n",
      "[git commit stdout] \tmodified:   snps_sefale/venn_shared_genes.png\n",
      "[git commit stdout] \tdeleted:    snps_sefale/venn_shared_polymorphism.png\n",
      "[git commit stdout] \tdeleted:    snps_sefale/venn_shared_snsps.png\n",
      "[git commit stdout] \n",
      "[git commit stdout] Untracked files:\n",
      "[git commit stdout] \tjgh\n",
      "[git commit stdout] \tmapping_to_SefAle/404.bam\n",
      "[git commit stdout] \tmapping_to_SefAle/404.cov\n",
      "[git commit stdout] \tmapping_to_SefAle/404.sam\n",
      "[git commit stdout] \tmapping_to_SefAle/404.un.sam\n",
      "[git commit stdout] \tmapping_to_SefAle/424.bam\n",
      "[git commit stdout] \tmapping_to_SefAle/424.cov\n",
      "[git commit stdout] \tmapping_to_SefAle/424.sam\n",
      "[git commit stdout] \tmapping_to_SefAle/424.un.sam\n",
      "[git commit stdout] \tmapping_to_SefAle/Sefale.bam\n",
      "[git commit stdout] \tmapping_to_SefAle/Sefale.cov\n",
      "[git commit stdout] \tmapping_to_SefAle/Sefale.sam\n",
      "[git commit stdout] \tmapping_to_SefAle/Sefale.un.sam\n",
      "[git commit stdout] \tsnps_sefale/404_snp_only.syn\n",
      "[git commit stdout] \tsnps_sefale/424_snp_only.syn\n",
      "[git commit stdout] \tsnps_sefale/SefAle_snp_only.tsv\n",
      "[git commit stdout] \tsnps_sefale/SefAle_snp_only.tsv.annotated.txt\n",
      "[git commit stdout] \tsnps_sefale/Sefale.vcf\n",
      "[git commit stdout] \tsnps_sefale/Sefale_all_polymorphism.tsv\n",
      "[git commit stdout] \tsnps_sefale/Sefale_all_polymorphism.tsv.annotated.txt\n",
      "[git commit stdout] \n",
      "[git commit stdout] no changes added to commit\n",
      "\n",
      "\n",
      "[git push stderr] Everything up-to-date\n",
      "[git add] raw_reads/424_forward.singletons.fastq.gz too large. Adding to gitignore\n",
      "[git add] raw_reads/424_forward.paired.fastq.gz too large. Adding to gitignore\n",
      "[git add] raw_reads/424_S6_R1_001.fastq.gz too large. Adding to gitignore\n"
     ]
    }
   ],
   "source": [
    "from jgh.Interface import Interface\n",
    "import glob\n",
    "\n",
    "repo = Interface()\n",
    "\n",
    "for path in glob.glob('*'):\n",
    "    if path == 'jgh':\n",
    "        continue\n",
    "    repo.evaladd(path)\n",
    "    repo.commitpush(path)"
   ]
  },
  {
   "cell_type": "code",
   "execution_count": null,
   "metadata": {},
   "outputs": [],
   "source": []
  }
 ],
 "metadata": {
  "kernelspec": {
   "display_name": "Python 2",
   "language": "python",
   "name": "python2"
  },
  "language_info": {
   "codemirror_mode": {
    "name": "ipython",
    "version": 2
   },
   "file_extension": ".py",
   "mimetype": "text/x-python",
   "name": "python",
   "nbconvert_exporter": "python",
   "pygments_lexer": "ipython2",
   "version": "2.7.14"
  }
 },
 "nbformat": 4,
 "nbformat_minor": 2
}
