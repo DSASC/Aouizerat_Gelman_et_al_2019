{
 "cells": [
  {
   "cell_type": "code",
   "execution_count": null,
   "metadata": {},
   "outputs": [
    {
     "name": "stdout",
     "output_type": "stream",
     "text": [
      "[git pull] Syncing with origin: git@github.com:szitenberg/Aouizerat_Gelman_et_al_2019.git\n",
      "/master\n",
      "[git pull] Syncing with origin: git@github.com:szitenberg/Aouizerat_Gelman_et_al_2019.git\n",
      "/master\n",
      "[git commit stdout] [master a4a71ce] mapping\n",
      "[git commit stdout]  6 files changed, 1 insertion(+)\n",
      "[git commit stdout]  create mode 100644 .gitignore\n",
      "[git commit stdout]  create mode 100644 mapping/404_celera_22.sam\n",
      "[git commit stdout]  create mode 100644 mapping/404_platanus_22.sam\n",
      "[git commit stdout]  create mode 100644 mapping/424_celera_22.sam\n",
      "[git commit stdout]  create mode 100644 mapping/Sefale_celera_22.sam\n",
      "[git commit stdout]  create mode 100644 mapping/Sefale_platanus_22.sam\n",
      "\n",
      "\n",
      "[git push stderr] To github.com:szitenberg/Aouizerat_Gelman_et_al_2019.git\n",
      "[git push stderr]    1bba22e..a4a71ce  master -> master\n",
      "[git add] raw_reads/424_forward.singletons.fastq.gz too large. Adding to gitignore\n",
      "[git add] raw_reads/424_forward.paired.fastq.gz too large. Adding to gitignore\n",
      "[git add] raw_reads/424_S6_R1_001.fastq.gz too large. Adding to gitignore\n",
      "[git add] raw_reads/404_forward.paired.fastq.gz too large. Adding to gitignore\n",
      "[git add] raw_reads/Sefale_reverse.paired.fastq.gz too large. Adding to gitignore\n",
      "[git add] raw_reads/Sefale_forward.paired.fastq.gz too large. Adding to gitignore\n",
      "[git add] raw_reads/404_S6_R1_001.fastq.gz too large. Adding to gitignore\n",
      "[git add] raw_reads/404_reverse.paired.fastq.gz too large. Adding to gitignore\n",
      "[git add] raw_reads/404_S6_R2_001.fastq.gz too large. Adding to gitignore\n",
      "[git add] raw_reads/424_S6_R2_001.fastq.gz too large. Adding to gitignore\n",
      "[git add] raw_reads/Sefale_S5_R1_001.fastq.gz too large. Adding to gitignore\n",
      "[git add] raw_reads/424_reverse.paired.fastq.gz too large. Adding to gitignore\n",
      "[git add] raw_reads/Sefale_S5_R2_001.fastq.gz too large. Adding to gitignore\n",
      "[git add] raw_reads/404_forward.singletons.fastq.gz too large. Adding to gitignore\n",
      "[git pull] Syncing with origin: git@github.com:szitenberg/Aouizerat_Gelman_et_al_2019.git\n",
      "/master\n",
      "[git commit stdout] [master 65b79d6] raw_reads\n",
      "[git commit stdout]  18 files changed, 1266 insertions(+)\n",
      "[git commit stdout]  create mode 100644 raw_reads/404_reverse.singletons.fastq.gz\n",
      "[git commit stdout]  create mode 100644 raw_reads/424_reverse.singletons.fastq.gz\n",
      "[git commit stdout]  create mode 100644 raw_reads/Sefale_forward.singletons.fastq.gz\n",
      "[git commit stdout]  create mode 100644 raw_reads/Sefale_reverse.singletons.fastq.gz\n",
      "[git commit stdout]  create mode 100644 raw_reads/fastqc/404_forward.paired_fastqc.html\n",
      "[git commit stdout]  create mode 100644 raw_reads/fastqc/404_forward.paired_fastqc.zip\n",
      "[git commit stdout]  create mode 100644 raw_reads/fastqc/404_reverse.paired_fastqc.html\n",
      "[git commit stdout]  create mode 100644 raw_reads/fastqc/404_reverse.paired_fastqc.zip\n",
      "[git commit stdout]  create mode 100644 raw_reads/fastqc/424_forward.paired_fastqc.html\n",
      "[git commit stdout]  create mode 100644 raw_reads/fastqc/424_forward.paired_fastqc.zip\n",
      "[git commit stdout]  create mode 100644 raw_reads/fastqc/424_reverse.paired_fastqc.html\n",
      "[git commit stdout]  create mode 100644 raw_reads/fastqc/424_reverse.paired_fastqc.zip\n",
      "[git commit stdout]  create mode 100644 raw_reads/fastqc/Sefale_forward.paired_fastqc.html\n",
      "[git commit stdout]  create mode 100644 raw_reads/fastqc/Sefale_forward.paired_fastqc.zip\n",
      "[git commit stdout]  create mode 100644 raw_reads/fastqc/Sefale_reverse.paired_fastqc.html\n",
      "[git commit stdout]  create mode 100644 raw_reads/fastqc/Sefale_reverse.paired_fastqc.zip\n",
      "[git commit stdout]  create mode 100644 raw_reads/fastqc/log\n",
      "\n"
     ]
    }
   ],
   "source": [
    "from jgh.Interface import Interface\n",
    "import glob\n",
    "\n",
    "repo = Interface()\n",
    "\n",
    "for path in glob.glob('*'):\n",
    "    if path == 'jgh':\n",
    "        continue\n",
    "    repo.evaladd(path)\n",
    "    repo.commitpush(path)"
   ]
  }
 ],
 "metadata": {
  "kernelspec": {
   "display_name": "Python 2",
   "language": "python",
   "name": "python2"
  },
  "language_info": {
   "codemirror_mode": {
    "name": "ipython",
    "version": 2
   },
   "file_extension": ".py",
   "mimetype": "text/x-python",
   "name": "python",
   "nbconvert_exporter": "python",
   "pygments_lexer": "ipython2",
   "version": "2.7.14"
  }
 },
 "nbformat": 4,
 "nbformat_minor": 2
}
